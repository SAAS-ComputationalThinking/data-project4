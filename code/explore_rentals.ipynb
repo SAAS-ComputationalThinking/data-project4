{
 "cells": [
  {
   "cell_type": "markdown",
   "metadata": {},
   "source": [
    "# Goals of this assignment\n",
    "-------------------------\n",
    "\n",
    "* Demonstrate that you can access specific rows, columns, and entries of a data frame\n",
    "* Demonstrate that you can iterate through a list (a particular row or column, or a set of rows or columns)\n",
    "* Demonstrate filtering pattern using if-then-else\n",
    "* Demonstrate that you can reconstruct an accumulator pattern\n",
    "* Write a function to make use of the same block of code over and over again.\n",
    "* Understand how indentation is used in python to indicate logical and functional blocks (and compare to how this is done in other languages)\n"
   ]
  },
  {
   "cell_type": "markdown",
   "metadata": {},
   "source": [
    "# The Dataset\n",
    "--------------\n",
    "\n",
    "This dataset is also taken from Zillow and is formatted similarly, but covers median prices for 3 bedroom *rentals* from each state  for the past eight years.  There is more missing data, so we will have to handle it differently this time, but you will be doing the same kinds of things with this data, and the goal is to be sure everyone is clear on how accessing the data works and how to use it."
   ]
  },
  {
   "cell_type": "code",
   "execution_count": null,
   "metadata": {},
   "outputs": [],
   "source": [
    "import pandas as pd"
   ]
  },
  {
   "cell_type": "code",
   "execution_count": null,
   "metadata": {},
   "outputs": [],
   "source": [
    "df = pd.read_csv('../data/State_MedianRentalPrice_3Bedroom.csv', index_col='RegionName')"
   ]
  },
  {
   "cell_type": "code",
   "execution_count": null,
   "metadata": {},
   "outputs": [],
   "source": [
    "print(df.columns)\n",
    "months = df.columns[1:]\n",
    "print(months)"
   ]
  },
  {
   "cell_type": "markdown",
   "metadata": {},
   "source": [
    "# How many entries are missing?\n",
    "--------------------------"
   ]
  },
  {
   "cell_type": "code",
   "execution_count": null,
   "metadata": {},
   "outputs": [],
   "source": [
    "for state in df.index:\n",
    "    #print(state, '\\t', sum(pd.isna(df.loc[state][months])))\n",
    "    print('{:22}{:2d}'.format(state, sum(pd.isna(df.loc[state][months]))))"
   ]
  },
  {
   "cell_type": "code",
   "execution_count": null,
   "metadata": {},
   "outputs": [],
   "source": [
    "len(months)"
   ]
  },
  {
   "cell_type": "markdown",
   "metadata": {},
   "source": [
    "# a lot of the data are missing\n",
    "\n",
    "Of the 105 months in the dataset, more than half of the entries are missing for some of the states, and most of the states have some missing entries, so we're going to have do something different from what we did in project 3, where we just dumped the data from the one state that had any missing entries.  We're going to have to ignore just the the ones that are missing, which means that the number of data values will be different for every state\n",
    "\n"
   ]
  },
  {
   "cell_type": "markdown",
   "metadata": {},
   "source": [
    "# Task 1 - accessing the data\n",
    "----------\n",
    "\n",
    "\n",
    "Demonstrate that you can access specific rows, columns, and entries of a data frame\n",
    "\n",
    "In separate cells, print:\n",
    "\n",
    " 1. Every entry for the state of Wyoming\n",
    " 2. Every entry for the month of March, 2014\n",
    " 3. The entry for New York in March of 2014\n",
    " 4. The entry for Rhode Island in May of 2012\n",
    " ----------"
   ]
  },
  {
   "cell_type": "code",
   "execution_count": null,
   "metadata": {},
   "outputs": [],
   "source": []
  },
  {
   "cell_type": "code",
   "execution_count": null,
   "metadata": {},
   "outputs": [],
   "source": []
  },
  {
   "cell_type": "code",
   "execution_count": null,
   "metadata": {},
   "outputs": [],
   "source": []
  },
  {
   "cell_type": "code",
   "execution_count": null,
   "metadata": {},
   "outputs": [],
   "source": []
  },
  {
   "cell_type": "markdown",
   "metadata": {},
   "source": [
    "# Task 2 - looping through the data\n",
    "----------\n",
    "\n",
    "Demonstrate that you can iterate through a list (a particular row or column, or a set of rows or columns)\n",
    "\n",
    " 1. Make a for loop that accesses every entry for Arizona and prints it out\n",
    "\n",
    "-----------"
   ]
  },
  {
   "cell_type": "code",
   "execution_count": null,
   "metadata": {},
   "outputs": [],
   "source": []
  },
  {
   "cell_type": "markdown",
   "metadata": {},
   "source": [
    "# Task 3 - filtering the data\n",
    "---------\n",
    "\n",
    "Demonstrate filtering pattern using if-then-else\n",
    "\n",
    " 1. Make a for loop that accesses every entry for California.\n",
    " 2. If the entry is \"nan\" it should print the month and \"Missing\"\n",
    " 3. If the value is a number AND it is greater than $2000 it should print the month and \"Expensive\"\n",
    " 4. Otherwise, it should print the month and \"Less than 2000\"\n",
    "\n",
    "----------- "
   ]
  },
  {
   "cell_type": "code",
   "execution_count": null,
   "metadata": {},
   "outputs": [],
   "source": []
  },
  {
   "cell_type": "markdown",
   "metadata": {},
   "source": [
    "# Task 4 - filtering the data again\n",
    "-----------\n",
    "\n",
    "Demonstrate filtering pattern using if-then-else\n",
    "\n",
    "   1. Make a for loop that accesses every state during the month of October 2010\n",
    "   2. If the entry is \"nan\" it should print the state and \"Missing\"\n",
    "   3. If the value is a number AND it is greater than $2000 it should print the state and \"Expensive\"\n",
    "   4. Otherwise, it should print the state and \"Less than 2000\"\n",
    "\n",
    "-----------"
   ]
  },
  {
   "cell_type": "code",
   "execution_count": null,
   "metadata": {},
   "outputs": [],
   "source": []
  },
  {
   "cell_type": "markdown",
   "metadata": {},
   "source": [
    "# Task 5 - accumulating the data\n",
    "----------\n",
    "\n",
    "Demonstrate that you can reconstruct an accumulator pattern in the presence of missing values\n",
    "\n",
    " 1. Compute the average national price during the month of October 2010, but you should ignore states that don't have data\n",
    " 2. So construct an accumulator pattern that initializes three holder variables to hold the running total of prices, a second to hold the running count of valid data points, and a third to hold the running count of invalid data points\n",
    " 3. Compute and output the average price as well as the number of valid and invalid data points\n",
    "\n",
    "-----------"
   ]
  },
  {
   "cell_type": "code",
   "execution_count": null,
   "metadata": {},
   "outputs": [],
   "source": []
  },
  {
   "cell_type": "markdown",
   "metadata": {},
   "source": [
    "# Task 6 - Functions\n",
    "-----------------------\n",
    "\n",
    "The bit of code above works for getting information about a particular month, but it's a little inconvenient to use it to get information about every month, so we're going to reuse that work in a way that allows us to repeatedly call on that capability\n",
    "\n",
    "------------------------"
   ]
  },
  {
   "cell_type": "code",
   "execution_count": null,
   "metadata": {},
   "outputs": [],
   "source": [
    "def monthly_avg(df, month):\n",
    "    total_price = 0\n",
    "    valid_data = 0\n",
    "    invalid_data = 0\n",
    "\n",
    "    for state in df.index:\n",
    "        new_price = df.loc[state][month]\n",
    "        if pd.isna(new_price):\n",
    "            invalid_data = invalid_data + 1\n",
    "        else:\n",
    "            valid_data = valid_data + 1\n",
    "            total_price = total_price + new_price\n",
    "\n",
    "    print('{:8}{:06.2f} {:2} {:2} {:2}'.format(month, \n",
    "                round(total_price/valid_data, 2), \n",
    "                valid_data, invalid_data, len(df.index)))\n"
   ]
  },
  {
   "cell_type": "code",
   "execution_count": null,
   "metadata": {},
   "outputs": [],
   "source": [
    "monthly_avg(df, '2012-09')"
   ]
  },
  {
   "cell_type": "code",
   "execution_count": null,
   "metadata": {},
   "outputs": [],
   "source": [
    "for month in months:\n",
    "    monthly_avg(df, month)"
   ]
  },
  {
   "cell_type": "code",
   "execution_count": null,
   "metadata": {},
   "outputs": [],
   "source": []
  }
 ],
 "metadata": {
  "kernelspec": {
   "display_name": "Python 3",
   "language": "python",
   "name": "python3"
  },
  "language_info": {
   "codemirror_mode": {
    "name": "ipython",
    "version": 3
   },
   "file_extension": ".py",
   "mimetype": "text/x-python",
   "name": "python",
   "nbconvert_exporter": "python",
   "pygments_lexer": "ipython3",
   "version": "3.6.5"
  }
 },
 "nbformat": 4,
 "nbformat_minor": 2
}
